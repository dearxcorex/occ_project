{
 "cells": [
  {
   "cell_type": "code",
   "execution_count": 114,
   "metadata": {},
   "outputs": [],
   "source": [
    "import pandas as pd \n",
    "import numpy as np"
   ]
  },
  {
   "cell_type": "code",
   "execution_count": 115,
   "metadata": {},
   "outputs": [],
   "source": [
    "df = pd.DataFrame()\n"
   ]
  },
  {
   "cell_type": "code",
   "execution_count": 116,
   "metadata": {},
   "outputs": [],
   "source": [
    "start = int(1215 * 1e6)\n",
    "stop = int(1427 * 1e6)\n",
    "step = int(250000)"
   ]
  },
  {
   "cell_type": "code",
   "execution_count": 117,
   "metadata": {},
   "outputs": [],
   "source": [
    "df['Frequency (Hz)'] = pd.Series(range(start, stop + step, step))"
   ]
  },
  {
   "cell_type": "code",
   "execution_count": 118,
   "metadata": {},
   "outputs": [],
   "source": [
    "# add 0\n",
    "\n",
    "df['Occupancy (%)'] = 0"
   ]
  },
  {
   "cell_type": "code",
   "execution_count": 119,
   "metadata": {},
   "outputs": [],
   "source": [
    "#get info\n",
    "df_info = pd.read_csv(\"data/pro_9.csv\",usecols=[\"File Info\"],encoding = \"ISO-8859-1\")\n",
    "\n",
    "#create col\n",
    "df['File Info'] = df_info"
   ]
  },
  {
   "cell_type": "code",
   "execution_count": 120,
   "metadata": {},
   "outputs": [],
   "source": [
    "#deal with Nan \n",
    "df = df.fillna('')"
   ]
  },
  {
   "cell_type": "code",
   "execution_count": 129,
   "metadata": {},
   "outputs": [],
   "source": [
    "# clean info \n",
    "\n",
    "#Record \n",
    "records = len(df['Frequency (Hz)'])\n",
    "df.loc[3,'File Info'] = f'Records:{records}'"
   ]
  },
  {
   "cell_type": "code",
   "execution_count": 130,
   "metadata": {},
   "outputs": [
    {
     "data": {
      "text/html": [
       "<div>\n",
       "<style scoped>\n",
       "    .dataframe tbody tr th:only-of-type {\n",
       "        vertical-align: middle;\n",
       "    }\n",
       "\n",
       "    .dataframe tbody tr th {\n",
       "        vertical-align: top;\n",
       "    }\n",
       "\n",
       "    .dataframe thead th {\n",
       "        text-align: right;\n",
       "    }\n",
       "</style>\n",
       "<table border=\"1\" class=\"dataframe\">\n",
       "  <thead>\n",
       "    <tr style=\"text-align: right;\">\n",
       "      <th></th>\n",
       "      <th>Frequency (Hz)</th>\n",
       "      <th>Occupancy (%)</th>\n",
       "      <th>File Info</th>\n",
       "    </tr>\n",
       "  </thead>\n",
       "  <tbody>\n",
       "    <tr>\n",
       "      <th>0</th>\n",
       "      <td>1215000000</td>\n",
       "      <td>0</td>\n",
       "      <td>File Name:                      pro_9_1_000002...</td>\n",
       "    </tr>\n",
       "    <tr>\n",
       "      <th>1</th>\n",
       "      <td>1215250000</td>\n",
       "      <td>0</td>\n",
       "      <td>File Type:                      Statistic Data</td>\n",
       "    </tr>\n",
       "    <tr>\n",
       "      <th>2</th>\n",
       "      <td>1215500000</td>\n",
       "      <td>0</td>\n",
       "      <td>Write Access:                   TRUE</td>\n",
       "    </tr>\n",
       "    <tr>\n",
       "      <th>3</th>\n",
       "      <td>1215750000</td>\n",
       "      <td>0</td>\n",
       "      <td>Records:849</td>\n",
       "    </tr>\n",
       "    <tr>\n",
       "      <th>4</th>\n",
       "      <td>1216000000</td>\n",
       "      <td>0</td>\n",
       "      <td>Created At:                     2023-04-26 11:...</td>\n",
       "    </tr>\n",
       "    <tr>\n",
       "      <th>...</th>\n",
       "      <td>...</td>\n",
       "      <td>...</td>\n",
       "      <td>...</td>\n",
       "    </tr>\n",
       "    <tr>\n",
       "      <th>844</th>\n",
       "      <td>1426000000</td>\n",
       "      <td>0</td>\n",
       "      <td></td>\n",
       "    </tr>\n",
       "    <tr>\n",
       "      <th>845</th>\n",
       "      <td>1426250000</td>\n",
       "      <td>0</td>\n",
       "      <td></td>\n",
       "    </tr>\n",
       "    <tr>\n",
       "      <th>846</th>\n",
       "      <td>1426500000</td>\n",
       "      <td>0</td>\n",
       "      <td></td>\n",
       "    </tr>\n",
       "    <tr>\n",
       "      <th>847</th>\n",
       "      <td>1426750000</td>\n",
       "      <td>0</td>\n",
       "      <td></td>\n",
       "    </tr>\n",
       "    <tr>\n",
       "      <th>848</th>\n",
       "      <td>1427000000</td>\n",
       "      <td>0</td>\n",
       "      <td></td>\n",
       "    </tr>\n",
       "  </tbody>\n",
       "</table>\n",
       "<p>849 rows × 3 columns</p>\n",
       "</div>"
      ],
      "text/plain": [
       "     Frequency (Hz)  Occupancy (%)  \\\n",
       "0        1215000000              0   \n",
       "1        1215250000              0   \n",
       "2        1215500000              0   \n",
       "3        1215750000              0   \n",
       "4        1216000000              0   \n",
       "..              ...            ...   \n",
       "844      1426000000              0   \n",
       "845      1426250000              0   \n",
       "846      1426500000              0   \n",
       "847      1426750000              0   \n",
       "848      1427000000              0   \n",
       "\n",
       "                                             File Info  \n",
       "0    File Name:                      pro_9_1_000002...  \n",
       "1       File Type:                      Statistic Data  \n",
       "2                 Write Access:                   TRUE  \n",
       "3                                          Records:849  \n",
       "4    Created At:                     2023-04-26 11:...  \n",
       "..                                                 ...  \n",
       "844                                                     \n",
       "845                                                     \n",
       "846                                                     \n",
       "847                                                     \n",
       "848                                                     \n",
       "\n",
       "[849 rows x 3 columns]"
      ]
     },
     "execution_count": 130,
     "metadata": {},
     "output_type": "execute_result"
    }
   ],
   "source": [
    "df"
   ]
  },
  {
   "cell_type": "code",
   "execution_count": 131,
   "metadata": {},
   "outputs": [],
   "source": [
    "file_path = 'output/pro_9.csv'\n",
    "\n",
    "df.to_csv(file_path,index=False)"
   ]
  },
  {
   "cell_type": "code",
   "execution_count": null,
   "metadata": {},
   "outputs": [],
   "source": []
  }
 ],
 "metadata": {
  "kernelspec": {
   "display_name": "Python 3",
   "language": "python",
   "name": "python3"
  },
  "language_info": {
   "codemirror_mode": {
    "name": "ipython",
    "version": 3
   },
   "file_extension": ".py",
   "mimetype": "text/x-python",
   "name": "python",
   "nbconvert_exporter": "python",
   "pygments_lexer": "ipython3",
   "version": "3.10.9"
  },
  "orig_nbformat": 4
 },
 "nbformat": 4,
 "nbformat_minor": 2
}
